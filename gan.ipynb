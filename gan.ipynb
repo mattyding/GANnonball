{
 "cells": [
  {
   "cell_type": "code",
   "execution_count": 1,
   "metadata": {},
   "outputs": [
    {
     "name": "stderr",
     "output_type": "stream",
     "text": [
      "2022-04-30 17:24:09.008094: I tensorflow/core/platform/cpu_feature_guard.cc:151] This TensorFlow binary is optimized with oneAPI Deep Neural Network Library (oneDNN) to use the following CPU instructions in performance-critical operations:  AVX2 FMA\n",
      "To enable them in other operations, rebuild TensorFlow with the appropriate compiler flags.\n"
     ]
    }
   ],
   "source": [
    "from keras.models import Sequential\n",
    "from keras.layers import Dense, LeakyReLU\n",
    "import numpy as np\n",
    "import matplotlib.pyplot as plt\n",
    "\n",
    "def define_discriminator(inputs = 30000):\n",
    "    ''' function to return the compiled discriminator model'''\n",
    "    model = Sequential()\n",
    "    model.add(Dense(25, activation = 'relu', kernel_initializer = 'he_uniform', input_dim = inputs))\n",
    "    model.add(LeakyReLU(alpha = 0.01))\n",
    "    model.add(Dense(15, activation = 'relu', kernel_initializer = 'he_uniform'))\n",
    "    model.add(LeakyReLU(alpha = 0.01))\n",
    "    model.add(Dense(5, activation = 'relu', kernel_initializer = 'he_uniform'))\n",
    "    model.add(LeakyReLU(alpha = 0.01))\n",
    "    model.add(Dense(1, activation = 'sigmoid'))\n",
    "    model.compile(optimizer = 'adam', loss = 'binary_crossentropy', metrics = ['accuracy'])\n",
    "    return model\n",
    "\n",
    "discriminator_model = define_discriminator()"
   ]
  },
  {
   "cell_type": "code",
   "execution_count": 2,
   "metadata": {},
   "outputs": [],
   "source": [
    "def define_generator(latent_dim, outputs = 30000):\n",
    "    model = Sequential()\n",
    "    model.add(Dense(25, activation = 'relu', kernel_initializer= 'he_uniform', input_dim = latent_dim))\n",
    "    model.add(LeakyReLU(alpha = 0.01))\n",
    "    model.add(Dense(15, activation = 'relu', kernel_initializer = 'he_uniform'))\n",
    "    model.add(LeakyReLU(alpha = 0.01))\n",
    "    model.add(Dense(outputs, activation = 'linear'))\n",
    "    return model\n",
    "\n",
    "latent_dim = 5  # TODO: test different latent dims\n",
    "generator_model = define_generator(latent_dim)"
   ]
  },
  {
   "cell_type": "code",
   "execution_count": 3,
   "metadata": {},
   "outputs": [],
   "source": [
    "def define_gan(generator, discriminator):\n",
    "    '''define the combined generator and discriminator model'''\n",
    "    discriminator.trainable = False\n",
    "    model = Sequential()\n",
    "    model.add(generator)\n",
    "    model.add(discriminator)\n",
    "    model.compile(optimizer = 'adam', loss = 'binary_crossentropy')\n",
    "    return model\n",
    "\n",
    "gan_model = define_gan(generator_model, discriminator_model)"
   ]
  },
  {
   "cell_type": "code",
   "execution_count": 4,
   "metadata": {},
   "outputs": [
    {
     "name": "stdout",
     "output_type": "stream",
     "text": [
      "finished processing PatMetheny_NothingPersonal_FINAL.middid.midL.middNAL.mid\r"
     ]
    }
   ],
   "source": [
    "from preprocessing import loadData\n",
    "\n",
    "data = loadData()"
   ]
  },
  {
   "cell_type": "code",
   "execution_count": 9,
   "metadata": {},
   "outputs": [],
   "source": [
    "def generate_real_samples(n):\n",
    "    '''generate a batch of real samples'''\n",
    "    # choose random instances\n",
    "    ix = np.random.randint(0, data.shape[0], n)\n",
    "    # retrieve selected rows\n",
    "    X = data[ix]\n",
    "    # generate 'real' class labels (1)\n",
    "    y = np.ones((n, 1))\n",
    "    return X, y\n",
    "\n",
    "def generate_fake_samples(generator, latent_dim, n):\n",
    "    '''generate a batch of fake samples'''\n",
    "    # generate points in latent space\n",
    "    z = np.random.normal(0, 1, (n, latent_dim))\n",
    "    # generate 'fake' class labels (0)\n",
    "    y = np.zeros((n, 1))\n",
    "    X = generator.predict(z)\n",
    "    return X, y\n",
    "\n",
    "def generate_latent_points(latent_dim, n):\n",
    "    '''generate points in latent space'''\n",
    "    # generate points in latent space\n",
    "    z = np.random.normal(0, 1, (n, latent_dim))\n",
    "    return z\n",
    "\n",
    "def summarize_performance(epoch, generator, discriminator, latent_dim, n = 100):\n",
    "    '''evaluate the discriminator and plot real and fake samples'''\n",
    "    x_real, y_real = generate_real_samples(n)      #generate real samples\n",
    "    _, acc_real = discriminator.evaluate(x_real, y_real, verbose = 1)\n",
    "    x_fake, y_fake = generate_fake_samples(generator, latent_dim, n)\n",
    "    _, acc_fake = discriminator.evaluate(x_fake, y_fake, verbose = 1)\n",
    "    print('Epoch: ' + str(epoch) + ' Real Acc.: ' + str(acc_real) + ' Fake Acc.: '+ str(acc_fake))\n",
    "    plt.scatter(x_real[:,0], x_real[:,1], color = 'red')\n",
    "    plt.scatter(x_fake[:,0], x_fake[:,1], color = 'blue')\n",
    "    plt.show()"
   ]
  },
  {
   "cell_type": "code",
   "execution_count": 10,
   "metadata": {},
   "outputs": [],
   "source": [
    "def train_gan(g_model,d_model,gan_model,latent_dim, num_epochs = 10000,num_eval = 2000, batch_size = 128):\n",
    "    half_batch = int(batch_size/2)\n",
    "    for i in range(num_epochs):\n",
    "        X_real, y_real = generate_real_samples(half_batch)\n",
    "        d_model.train_on_batch(X_real, y_real)\n",
    "        X_fake, y_fake = generate_fake_samples(g_model, latent_dim, half_batch)\n",
    "        d_model.train_on_batch(X_fake, y_fake)\n",
    "        #prepare points in latent space as input for the generator\n",
    "        x_gan = generate_latent_points(latent_dim, batch_size)\n",
    "        #generate fake labels for gan\n",
    "        y_gan = np.ones((batch_size, 1))\n",
    "        gan_model.train_on_batch(x_gan, y_gan)\n",
    "        if (i+1) % num_eval == 0:\n",
    "            summarize_performance(i + 1, g_model, d_model, latent_dim)"
   ]
  },
  {
   "cell_type": "code",
   "execution_count": 11,
   "metadata": {},
   "outputs": [
    {
     "name": "stdout",
     "output_type": "stream",
     "text": [
      "4/4 [==============================] - 0s 2ms/step - loss: 9.5575e-06 - accuracy: 1.0000\n",
      "4/4 [==============================] - 0s 3ms/step - loss: 0.1160 - accuracy: 1.0000\n",
      "Epoch: 2000 Real Acc.: 1.0 Fake Acc.: 1.0\n"
     ]
    },
    {
     "data": {
      "image/png": "[encoded data removed]",
      "text/plain": [
       "<Figure size 432x288 with 1 Axes>"
      ]
     },
     "metadata": {
      "needs_background": "light"
     },
     "output_type": "display_data"
    },
    {
     "ename": "KeyboardInterrupt",
     "evalue": "",
     "output_type": "error",
     "traceback": [
      "\u001b[0;31m---------------------------------------------------------------------------\u001b[0m",
      "\u001b[0;31mKeyboardInterrupt\u001b[0m                         Traceback (most recent call last)",
      "\u001b[1;32m/Users/matthewding/Desktop/Soph Year/Spring Quarter/CS221/GANnonball/gan.ipynb Cell 7'\u001b[0m in \u001b[0;36m<cell line: 1>\u001b[0;34m()\u001b[0m\n\u001b[0;32m----> <a href='vscode-notebook-cell:/Users/matthewding/Desktop/Soph%20Year/Spring%20Quarter/CS221/GANnonball/gan.ipynb#ch0000012?line=0'>1</a>\u001b[0m train_gan(generator_model, discriminator_model, gan_model, latent_dim)\n",
      "\u001b[1;32m/Users/matthewding/Desktop/Soph Year/Spring Quarter/CS221/GANnonball/gan.ipynb Cell 6'\u001b[0m in \u001b[0;36mtrain_gan\u001b[0;34m(g_model, d_model, gan_model, latent_dim, num_epochs, num_eval, batch_size)\u001b[0m\n\u001b[1;32m      <a href='vscode-notebook-cell:/Users/matthewding/Desktop/Soph%20Year/Spring%20Quarter/CS221/GANnonball/gan.ipynb#ch0000004?line=5'>6</a>\u001b[0m X_real, y_real \u001b[39m=\u001b[39m generate_real_samples(half_batch) \u001b[39m#generate real examples\u001b[39;00m\n\u001b[1;32m      <a href='vscode-notebook-cell:/Users/matthewding/Desktop/Soph%20Year/Spring%20Quarter/CS221/GANnonball/gan.ipynb#ch0000004?line=6'>7</a>\u001b[0m d_model\u001b[39m.\u001b[39mtrain_on_batch(X_real, y_real)               \u001b[39m# train on real data\u001b[39;00m\n\u001b[0;32m----> <a href='vscode-notebook-cell:/Users/matthewding/Desktop/Soph%20Year/Spring%20Quarter/CS221/GANnonball/gan.ipynb#ch0000004?line=7'>8</a>\u001b[0m X_fake, y_fake \u001b[39m=\u001b[39m generate_fake_samples(g_model, latent_dim, half_batch) \u001b[39m#generate fake samples\u001b[39;00m\n\u001b[1;32m      <a href='vscode-notebook-cell:/Users/matthewding/Desktop/Soph%20Year/Spring%20Quarter/CS221/GANnonball/gan.ipynb#ch0000004?line=8'>9</a>\u001b[0m d_model\u001b[39m.\u001b[39mtrain_on_batch(X_fake, y_fake)                \u001b[39m#train on fake data\u001b[39;00m\n\u001b[1;32m     <a href='vscode-notebook-cell:/Users/matthewding/Desktop/Soph%20Year/Spring%20Quarter/CS221/GANnonball/gan.ipynb#ch0000004?line=9'>10</a>\u001b[0m \u001b[39m#prepare points in latent space as input for the generator\u001b[39;00m\n",
      "\u001b[1;32m/Users/matthewding/Desktop/Soph Year/Spring Quarter/CS221/GANnonball/gan.ipynb Cell 5'\u001b[0m in \u001b[0;36mgenerate_fake_samples\u001b[0;34m(generator, latent_dim, n)\u001b[0m\n\u001b[1;32m     <a href='vscode-notebook-cell:/Users/matthewding/Desktop/Soph%20Year/Spring%20Quarter/CS221/GANnonball/gan.ipynb#ch0000007?line=14'>15</a>\u001b[0m \u001b[39m# generate 'fake' class labels (0)\u001b[39;00m\n\u001b[1;32m     <a href='vscode-notebook-cell:/Users/matthewding/Desktop/Soph%20Year/Spring%20Quarter/CS221/GANnonball/gan.ipynb#ch0000007?line=15'>16</a>\u001b[0m y \u001b[39m=\u001b[39m np\u001b[39m.\u001b[39mzeros((n, \u001b[39m1\u001b[39m))\n\u001b[0;32m---> <a href='vscode-notebook-cell:/Users/matthewding/Desktop/Soph%20Year/Spring%20Quarter/CS221/GANnonball/gan.ipynb#ch0000007?line=16'>17</a>\u001b[0m X \u001b[39m=\u001b[39m generator\u001b[39m.\u001b[39;49mpredict(z)\n\u001b[1;32m     <a href='vscode-notebook-cell:/Users/matthewding/Desktop/Soph%20Year/Spring%20Quarter/CS221/GANnonball/gan.ipynb#ch0000007?line=17'>18</a>\u001b[0m \u001b[39mreturn\u001b[39;00m X, y\n",
      "File \u001b[0;32m~/Desktop/Soph Year/Spring Quarter/CS221/GANnonball/venv/lib/python3.8/site-packages/keras/utils/traceback_utils.py:64\u001b[0m, in \u001b[0;36mfilter_traceback.<locals>.error_handler\u001b[0;34m(*args, **kwargs)\u001b[0m\n\u001b[1;32m     <a href='file:///Users/matthewding/Desktop/Soph%20Year/Spring%20Quarter/CS221/GANnonball/venv/lib/python3.8/site-packages/keras/utils/traceback_utils.py?line=61'>62</a>\u001b[0m filtered_tb \u001b[39m=\u001b[39m \u001b[39mNone\u001b[39;00m\n\u001b[1;32m     <a href='file:///Users/matthewding/Desktop/Soph%20Year/Spring%20Quarter/CS221/GANnonball/venv/lib/python3.8/site-packages/keras/utils/traceback_utils.py?line=62'>63</a>\u001b[0m \u001b[39mtry\u001b[39;00m:\n\u001b[0;32m---> <a href='file:///Users/matthewding/Desktop/Soph%20Year/Spring%20Quarter/CS221/GANnonball/venv/lib/python3.8/site-packages/keras/utils/traceback_utils.py?line=63'>64</a>\u001b[0m   \u001b[39mreturn\u001b[39;00m fn(\u001b[39m*\u001b[39;49margs, \u001b[39m*\u001b[39;49m\u001b[39m*\u001b[39;49mkwargs)\n\u001b[1;32m     <a href='file:///Users/matthewding/Desktop/Soph%20Year/Spring%20Quarter/CS221/GANnonball/venv/lib/python3.8/site-packages/keras/utils/traceback_utils.py?line=64'>65</a>\u001b[0m \u001b[39mexcept\u001b[39;00m \u001b[39mException\u001b[39;00m \u001b[39mas\u001b[39;00m e:  \u001b[39m# pylint: disable=broad-except\u001b[39;00m\n\u001b[1;32m     <a href='file:///Users/matthewding/Desktop/Soph%20Year/Spring%20Quarter/CS221/GANnonball/venv/lib/python3.8/site-packages/keras/utils/traceback_utils.py?line=65'>66</a>\u001b[0m   filtered_tb \u001b[39m=\u001b[39m _process_traceback_frames(e\u001b[39m.\u001b[39m__traceback__)\n",
      "File \u001b[0;32m~/Desktop/Soph Year/Spring Quarter/CS221/GANnonball/venv/lib/python3.8/site-packages/keras/engine/training.py:2004\u001b[0m, in \u001b[0;36mModel.predict\u001b[0;34m(self, x, batch_size, verbose, steps, callbacks, max_queue_size, workers, use_multiprocessing)\u001b[0m\n\u001b[1;32m   <a href='file:///Users/matthewding/Desktop/Soph%20Year/Spring%20Quarter/CS221/GANnonball/venv/lib/python3.8/site-packages/keras/engine/training.py?line=1996'>1997</a>\u001b[0m     \u001b[39mraise\u001b[39;00m \u001b[39mValueError\u001b[39;00m(\u001b[39m'\u001b[39m\u001b[39mUnexpected result of `predict_function` \u001b[39m\u001b[39m'\u001b[39m\n\u001b[1;32m   <a href='file:///Users/matthewding/Desktop/Soph%20Year/Spring%20Quarter/CS221/GANnonball/venv/lib/python3.8/site-packages/keras/engine/training.py?line=1997'>1998</a>\u001b[0m                      \u001b[39m'\u001b[39m\u001b[39m(Empty batch_outputs). Please use \u001b[39m\u001b[39m'\u001b[39m\n\u001b[1;32m   <a href='file:///Users/matthewding/Desktop/Soph%20Year/Spring%20Quarter/CS221/GANnonball/venv/lib/python3.8/site-packages/keras/engine/training.py?line=1998'>1999</a>\u001b[0m                      \u001b[39m'\u001b[39m\u001b[39m`Model.compile(..., run_eagerly=True)`, or \u001b[39m\u001b[39m'\u001b[39m\n\u001b[1;32m   <a href='file:///Users/matthewding/Desktop/Soph%20Year/Spring%20Quarter/CS221/GANnonball/venv/lib/python3.8/site-packages/keras/engine/training.py?line=1999'>2000</a>\u001b[0m                      \u001b[39m'\u001b[39m\u001b[39m`tf.config.run_functions_eagerly(True)` for more \u001b[39m\u001b[39m'\u001b[39m\n\u001b[1;32m   <a href='file:///Users/matthewding/Desktop/Soph%20Year/Spring%20Quarter/CS221/GANnonball/venv/lib/python3.8/site-packages/keras/engine/training.py?line=2000'>2001</a>\u001b[0m                      \u001b[39m'\u001b[39m\u001b[39minformation of where went wrong, or file a \u001b[39m\u001b[39m'\u001b[39m\n\u001b[1;32m   <a href='file:///Users/matthewding/Desktop/Soph%20Year/Spring%20Quarter/CS221/GANnonball/venv/lib/python3.8/site-packages/keras/engine/training.py?line=2001'>2002</a>\u001b[0m                      \u001b[39m'\u001b[39m\u001b[39missue/bug to `tf.keras`.\u001b[39m\u001b[39m'\u001b[39m)\n\u001b[1;32m   <a href='file:///Users/matthewding/Desktop/Soph%20Year/Spring%20Quarter/CS221/GANnonball/venv/lib/python3.8/site-packages/keras/engine/training.py?line=2002'>2003</a>\u001b[0m   callbacks\u001b[39m.\u001b[39mon_predict_end()\n\u001b[0;32m-> <a href='file:///Users/matthewding/Desktop/Soph%20Year/Spring%20Quarter/CS221/GANnonball/venv/lib/python3.8/site-packages/keras/engine/training.py?line=2003'>2004</a>\u001b[0m all_outputs \u001b[39m=\u001b[39m tf\u001b[39m.\u001b[39;49m__internal__\u001b[39m.\u001b[39;49mnest\u001b[39m.\u001b[39;49mmap_structure_up_to(batch_outputs, concat, outputs)\n\u001b[1;32m   <a href='file:///Users/matthewding/Desktop/Soph%20Year/Spring%20Quarter/CS221/GANnonball/venv/lib/python3.8/site-packages/keras/engine/training.py?line=2005'>2006</a>\u001b[0m \u001b[39m# If originally PSS strategy was used, then replace it back since predict\u001b[39;00m\n\u001b[1;32m   <a href='file:///Users/matthewding/Desktop/Soph%20Year/Spring%20Quarter/CS221/GANnonball/venv/lib/python3.8/site-packages/keras/engine/training.py?line=2006'>2007</a>\u001b[0m \u001b[39m# is running under `OneDeviceStrategy` after the swap and once its done\u001b[39;00m\n\u001b[1;32m   <a href='file:///Users/matthewding/Desktop/Soph%20Year/Spring%20Quarter/CS221/GANnonball/venv/lib/python3.8/site-packages/keras/engine/training.py?line=2007'>2008</a>\u001b[0m \u001b[39m# we need to replace it back to PSS again.\u001b[39;00m\n\u001b[1;32m   <a href='file:///Users/matthewding/Desktop/Soph%20Year/Spring%20Quarter/CS221/GANnonball/venv/lib/python3.8/site-packages/keras/engine/training.py?line=2008'>2009</a>\u001b[0m \u001b[39mif\u001b[39;00m original_pss_strategy \u001b[39mis\u001b[39;00m \u001b[39mnot\u001b[39;00m \u001b[39mNone\u001b[39;00m:\n",
      "File \u001b[0;32m~/Desktop/Soph Year/Spring Quarter/CS221/GANnonball/venv/lib/python3.8/site-packages/tensorflow/python/util/nest.py:1425\u001b[0m, in \u001b[0;36mmap_structure_up_to\u001b[0;34m(shallow_tree, func, *inputs, **kwargs)\u001b[0m\n\u001b[1;32m   <a href='file:///Users/matthewding/Desktop/Soph%20Year/Spring%20Quarter/CS221/GANnonball/venv/lib/python3.8/site-packages/tensorflow/python/util/nest.py?line=1350'>1351</a>\u001b[0m \u001b[39m@tf_export\u001b[39m(\u001b[39m\"\u001b[39m\u001b[39m__internal__.nest.map_structure_up_to\u001b[39m\u001b[39m\"\u001b[39m, v1\u001b[39m=\u001b[39m[])\n\u001b[1;32m   <a href='file:///Users/matthewding/Desktop/Soph%20Year/Spring%20Quarter/CS221/GANnonball/venv/lib/python3.8/site-packages/tensorflow/python/util/nest.py?line=1351'>1352</a>\u001b[0m \u001b[39mdef\u001b[39;00m \u001b[39mmap_structure_up_to\u001b[39m(shallow_tree, func, \u001b[39m*\u001b[39minputs, \u001b[39m*\u001b[39m\u001b[39m*\u001b[39mkwargs):\n\u001b[1;32m   <a href='file:///Users/matthewding/Desktop/Soph%20Year/Spring%20Quarter/CS221/GANnonball/venv/lib/python3.8/site-packages/tensorflow/python/util/nest.py?line=1352'>1353</a>\u001b[0m   \u001b[39m\"\"\"Applies a function or op to a number of partially flattened inputs.\u001b[39;00m\n\u001b[1;32m   <a href='file:///Users/matthewding/Desktop/Soph%20Year/Spring%20Quarter/CS221/GANnonball/venv/lib/python3.8/site-packages/tensorflow/python/util/nest.py?line=1353'>1354</a>\u001b[0m \n\u001b[1;32m   <a href='file:///Users/matthewding/Desktop/Soph%20Year/Spring%20Quarter/CS221/GANnonball/venv/lib/python3.8/site-packages/tensorflow/python/util/nest.py?line=1354'>1355</a>\u001b[0m \u001b[39m  The `inputs` are flattened up to `shallow_tree` before being mapped.\u001b[39;00m\n\u001b[0;32m   (...)\u001b[0m\n\u001b[1;32m   <a href='file:///Users/matthewding/Desktop/Soph%20Year/Spring%20Quarter/CS221/GANnonball/venv/lib/python3.8/site-packages/tensorflow/python/util/nest.py?line=1422'>1423</a>\u001b[0m \u001b[39m    `shallow_tree`.\u001b[39;00m\n\u001b[1;32m   <a href='file:///Users/matthewding/Desktop/Soph%20Year/Spring%20Quarter/CS221/GANnonball/venv/lib/python3.8/site-packages/tensorflow/python/util/nest.py?line=1423'>1424</a>\u001b[0m \u001b[39m  \"\"\"\u001b[39;00m\n\u001b[0;32m-> <a href='file:///Users/matthewding/Desktop/Soph%20Year/Spring%20Quarter/CS221/GANnonball/venv/lib/python3.8/site-packages/tensorflow/python/util/nest.py?line=1424'>1425</a>\u001b[0m   \u001b[39mreturn\u001b[39;00m map_structure_with_tuple_paths_up_to(\n\u001b[1;32m   <a href='file:///Users/matthewding/Desktop/Soph%20Year/Spring%20Quarter/CS221/GANnonball/venv/lib/python3.8/site-packages/tensorflow/python/util/nest.py?line=1425'>1426</a>\u001b[0m       shallow_tree,\n\u001b[1;32m   <a href='file:///Users/matthewding/Desktop/Soph%20Year/Spring%20Quarter/CS221/GANnonball/venv/lib/python3.8/site-packages/tensorflow/python/util/nest.py?line=1426'>1427</a>\u001b[0m       \u001b[39mlambda\u001b[39;49;00m _, \u001b[39m*\u001b[39;49mvalues: func(\u001b[39m*\u001b[39;49mvalues),  \u001b[39m# Discards the path arg.\u001b[39;49;00m\n\u001b[1;32m   <a href='file:///Users/matthewding/Desktop/Soph%20Year/Spring%20Quarter/CS221/GANnonball/venv/lib/python3.8/site-packages/tensorflow/python/util/nest.py?line=1427'>1428</a>\u001b[0m       \u001b[39m*\u001b[39;49minputs,\n\u001b[1;32m   <a href='file:///Users/matthewding/Desktop/Soph%20Year/Spring%20Quarter/CS221/GANnonball/venv/lib/python3.8/site-packages/tensorflow/python/util/nest.py?line=1428'>1429</a>\u001b[0m       \u001b[39m*\u001b[39;49m\u001b[39m*\u001b[39;49mkwargs)\n",
      "File \u001b[0;32m~/Desktop/Soph Year/Spring Quarter/CS221/GANnonball/venv/lib/python3.8/site-packages/tensorflow/python/util/nest.py:1525\u001b[0m, in \u001b[0;36mmap_structure_with_tuple_paths_up_to\u001b[0;34m(shallow_tree, func, *inputs, **kwargs)\u001b[0m\n\u001b[1;32m   <a href='file:///Users/matthewding/Desktop/Soph%20Year/Spring%20Quarter/CS221/GANnonball/venv/lib/python3.8/site-packages/tensorflow/python/util/nest.py?line=1515'>1516</a>\u001b[0m flat_value_gen \u001b[39m=\u001b[39m (\n\u001b[1;32m   <a href='file:///Users/matthewding/Desktop/Soph%20Year/Spring%20Quarter/CS221/GANnonball/venv/lib/python3.8/site-packages/tensorflow/python/util/nest.py?line=1516'>1517</a>\u001b[0m     flatten_up_to(  \u001b[39m# pylint: disable=g-complex-comprehension\u001b[39;00m\n\u001b[1;32m   <a href='file:///Users/matthewding/Desktop/Soph%20Year/Spring%20Quarter/CS221/GANnonball/venv/lib/python3.8/site-packages/tensorflow/python/util/nest.py?line=1517'>1518</a>\u001b[0m         shallow_tree,\n\u001b[1;32m   <a href='file:///Users/matthewding/Desktop/Soph%20Year/Spring%20Quarter/CS221/GANnonball/venv/lib/python3.8/site-packages/tensorflow/python/util/nest.py?line=1518'>1519</a>\u001b[0m         input_tree,\n\u001b[1;32m   <a href='file:///Users/matthewding/Desktop/Soph%20Year/Spring%20Quarter/CS221/GANnonball/venv/lib/python3.8/site-packages/tensorflow/python/util/nest.py?line=1519'>1520</a>\u001b[0m         check_types,\n\u001b[1;32m   <a href='file:///Users/matthewding/Desktop/Soph%20Year/Spring%20Quarter/CS221/GANnonball/venv/lib/python3.8/site-packages/tensorflow/python/util/nest.py?line=1520'>1521</a>\u001b[0m         expand_composites\u001b[39m=\u001b[39mexpand_composites) \u001b[39mfor\u001b[39;00m input_tree \u001b[39min\u001b[39;00m inputs)\n\u001b[1;32m   <a href='file:///Users/matthewding/Desktop/Soph%20Year/Spring%20Quarter/CS221/GANnonball/venv/lib/python3.8/site-packages/tensorflow/python/util/nest.py?line=1521'>1522</a>\u001b[0m flat_path_gen \u001b[39m=\u001b[39m (\n\u001b[1;32m   <a href='file:///Users/matthewding/Desktop/Soph%20Year/Spring%20Quarter/CS221/GANnonball/venv/lib/python3.8/site-packages/tensorflow/python/util/nest.py?line=1522'>1523</a>\u001b[0m     path\n\u001b[1;32m   <a href='file:///Users/matthewding/Desktop/Soph%20Year/Spring%20Quarter/CS221/GANnonball/venv/lib/python3.8/site-packages/tensorflow/python/util/nest.py?line=1523'>1524</a>\u001b[0m     \u001b[39mfor\u001b[39;00m path, _ \u001b[39min\u001b[39;00m _yield_flat_up_to(shallow_tree, inputs[\u001b[39m0\u001b[39m], is_nested_fn))\n\u001b[0;32m-> <a href='file:///Users/matthewding/Desktop/Soph%20Year/Spring%20Quarter/CS221/GANnonball/venv/lib/python3.8/site-packages/tensorflow/python/util/nest.py?line=1524'>1525</a>\u001b[0m results \u001b[39m=\u001b[39m [\n\u001b[1;32m   <a href='file:///Users/matthewding/Desktop/Soph%20Year/Spring%20Quarter/CS221/GANnonball/venv/lib/python3.8/site-packages/tensorflow/python/util/nest.py?line=1525'>1526</a>\u001b[0m     func(\u001b[39m*\u001b[39margs, \u001b[39m*\u001b[39m\u001b[39m*\u001b[39mkwargs) \u001b[39mfor\u001b[39;00m args \u001b[39min\u001b[39;00m \u001b[39mzip\u001b[39m(flat_path_gen, \u001b[39m*\u001b[39mflat_value_gen)\n\u001b[1;32m   <a href='file:///Users/matthewding/Desktop/Soph%20Year/Spring%20Quarter/CS221/GANnonball/venv/lib/python3.8/site-packages/tensorflow/python/util/nest.py?line=1526'>1527</a>\u001b[0m ]\n\u001b[1;32m   <a href='file:///Users/matthewding/Desktop/Soph%20Year/Spring%20Quarter/CS221/GANnonball/venv/lib/python3.8/site-packages/tensorflow/python/util/nest.py?line=1527'>1528</a>\u001b[0m \u001b[39mreturn\u001b[39;00m pack_sequence_as(structure\u001b[39m=\u001b[39mshallow_tree, flat_sequence\u001b[39m=\u001b[39mresults,\n\u001b[1;32m   <a href='file:///Users/matthewding/Desktop/Soph%20Year/Spring%20Quarter/CS221/GANnonball/venv/lib/python3.8/site-packages/tensorflow/python/util/nest.py?line=1528'>1529</a>\u001b[0m                         expand_composites\u001b[39m=\u001b[39mexpand_composites)\n",
      "File \u001b[0;32m~/Desktop/Soph Year/Spring Quarter/CS221/GANnonball/venv/lib/python3.8/site-packages/tensorflow/python/util/nest.py:1526\u001b[0m, in \u001b[0;36m<listcomp>\u001b[0;34m(.0)\u001b[0m\n\u001b[1;32m   <a href='file:///Users/matthewding/Desktop/Soph%20Year/Spring%20Quarter/CS221/GANnonball/venv/lib/python3.8/site-packages/tensorflow/python/util/nest.py?line=1515'>1516</a>\u001b[0m flat_value_gen \u001b[39m=\u001b[39m (\n\u001b[1;32m   <a href='file:///Users/matthewding/Desktop/Soph%20Year/Spring%20Quarter/CS221/GANnonball/venv/lib/python3.8/site-packages/tensorflow/python/util/nest.py?line=1516'>1517</a>\u001b[0m     flatten_up_to(  \u001b[39m# pylint: disable=g-complex-comprehension\u001b[39;00m\n\u001b[1;32m   <a href='file:///Users/matthewding/Desktop/Soph%20Year/Spring%20Quarter/CS221/GANnonball/venv/lib/python3.8/site-packages/tensorflow/python/util/nest.py?line=1517'>1518</a>\u001b[0m         shallow_tree,\n\u001b[1;32m   <a href='file:///Users/matthewding/Desktop/Soph%20Year/Spring%20Quarter/CS221/GANnonball/venv/lib/python3.8/site-packages/tensorflow/python/util/nest.py?line=1518'>1519</a>\u001b[0m         input_tree,\n\u001b[1;32m   <a href='file:///Users/matthewding/Desktop/Soph%20Year/Spring%20Quarter/CS221/GANnonball/venv/lib/python3.8/site-packages/tensorflow/python/util/nest.py?line=1519'>1520</a>\u001b[0m         check_types,\n\u001b[1;32m   <a href='file:///Users/matthewding/Desktop/Soph%20Year/Spring%20Quarter/CS221/GANnonball/venv/lib/python3.8/site-packages/tensorflow/python/util/nest.py?line=1520'>1521</a>\u001b[0m         expand_composites\u001b[39m=\u001b[39mexpand_composites) \u001b[39mfor\u001b[39;00m input_tree \u001b[39min\u001b[39;00m inputs)\n\u001b[1;32m   <a href='file:///Users/matthewding/Desktop/Soph%20Year/Spring%20Quarter/CS221/GANnonball/venv/lib/python3.8/site-packages/tensorflow/python/util/nest.py?line=1521'>1522</a>\u001b[0m flat_path_gen \u001b[39m=\u001b[39m (\n\u001b[1;32m   <a href='file:///Users/matthewding/Desktop/Soph%20Year/Spring%20Quarter/CS221/GANnonball/venv/lib/python3.8/site-packages/tensorflow/python/util/nest.py?line=1522'>1523</a>\u001b[0m     path\n\u001b[1;32m   <a href='file:///Users/matthewding/Desktop/Soph%20Year/Spring%20Quarter/CS221/GANnonball/venv/lib/python3.8/site-packages/tensorflow/python/util/nest.py?line=1523'>1524</a>\u001b[0m     \u001b[39mfor\u001b[39;00m path, _ \u001b[39min\u001b[39;00m _yield_flat_up_to(shallow_tree, inputs[\u001b[39m0\u001b[39m], is_nested_fn))\n\u001b[1;32m   <a href='file:///Users/matthewding/Desktop/Soph%20Year/Spring%20Quarter/CS221/GANnonball/venv/lib/python3.8/site-packages/tensorflow/python/util/nest.py?line=1524'>1525</a>\u001b[0m results \u001b[39m=\u001b[39m [\n\u001b[0;32m-> <a href='file:///Users/matthewding/Desktop/Soph%20Year/Spring%20Quarter/CS221/GANnonball/venv/lib/python3.8/site-packages/tensorflow/python/util/nest.py?line=1525'>1526</a>\u001b[0m     func(\u001b[39m*\u001b[39;49margs, \u001b[39m*\u001b[39;49m\u001b[39m*\u001b[39;49mkwargs) \u001b[39mfor\u001b[39;00m args \u001b[39min\u001b[39;00m \u001b[39mzip\u001b[39m(flat_path_gen, \u001b[39m*\u001b[39mflat_value_gen)\n\u001b[1;32m   <a href='file:///Users/matthewding/Desktop/Soph%20Year/Spring%20Quarter/CS221/GANnonball/venv/lib/python3.8/site-packages/tensorflow/python/util/nest.py?line=1526'>1527</a>\u001b[0m ]\n\u001b[1;32m   <a href='file:///Users/matthewding/Desktop/Soph%20Year/Spring%20Quarter/CS221/GANnonball/venv/lib/python3.8/site-packages/tensorflow/python/util/nest.py?line=1527'>1528</a>\u001b[0m \u001b[39mreturn\u001b[39;00m pack_sequence_as(structure\u001b[39m=\u001b[39mshallow_tree, flat_sequence\u001b[39m=\u001b[39mresults,\n\u001b[1;32m   <a href='file:///Users/matthewding/Desktop/Soph%20Year/Spring%20Quarter/CS221/GANnonball/venv/lib/python3.8/site-packages/tensorflow/python/util/nest.py?line=1528'>1529</a>\u001b[0m                         expand_composites\u001b[39m=\u001b[39mexpand_composites)\n",
      "File \u001b[0;32m~/Desktop/Soph Year/Spring Quarter/CS221/GANnonball/venv/lib/python3.8/site-packages/tensorflow/python/util/nest.py:1427\u001b[0m, in \u001b[0;36mmap_structure_up_to.<locals>.<lambda>\u001b[0;34m(_, *values)\u001b[0m\n\u001b[1;32m   <a href='file:///Users/matthewding/Desktop/Soph%20Year/Spring%20Quarter/CS221/GANnonball/venv/lib/python3.8/site-packages/tensorflow/python/util/nest.py?line=1350'>1351</a>\u001b[0m \u001b[39m@tf_export\u001b[39m(\u001b[39m\"\u001b[39m\u001b[39m__internal__.nest.map_structure_up_to\u001b[39m\u001b[39m\"\u001b[39m, v1\u001b[39m=\u001b[39m[])\n\u001b[1;32m   <a href='file:///Users/matthewding/Desktop/Soph%20Year/Spring%20Quarter/CS221/GANnonball/venv/lib/python3.8/site-packages/tensorflow/python/util/nest.py?line=1351'>1352</a>\u001b[0m \u001b[39mdef\u001b[39;00m \u001b[39mmap_structure_up_to\u001b[39m(shallow_tree, func, \u001b[39m*\u001b[39minputs, \u001b[39m*\u001b[39m\u001b[39m*\u001b[39mkwargs):\n\u001b[1;32m   <a href='file:///Users/matthewding/Desktop/Soph%20Year/Spring%20Quarter/CS221/GANnonball/venv/lib/python3.8/site-packages/tensorflow/python/util/nest.py?line=1352'>1353</a>\u001b[0m   \u001b[39m\"\"\"Applies a function or op to a number of partially flattened inputs.\u001b[39;00m\n\u001b[1;32m   <a href='file:///Users/matthewding/Desktop/Soph%20Year/Spring%20Quarter/CS221/GANnonball/venv/lib/python3.8/site-packages/tensorflow/python/util/nest.py?line=1353'>1354</a>\u001b[0m \n\u001b[1;32m   <a href='file:///Users/matthewding/Desktop/Soph%20Year/Spring%20Quarter/CS221/GANnonball/venv/lib/python3.8/site-packages/tensorflow/python/util/nest.py?line=1354'>1355</a>\u001b[0m \u001b[39m  The `inputs` are flattened up to `shallow_tree` before being mapped.\u001b[39;00m\n\u001b[0;32m   (...)\u001b[0m\n\u001b[1;32m   <a href='file:///Users/matthewding/Desktop/Soph%20Year/Spring%20Quarter/CS221/GANnonball/venv/lib/python3.8/site-packages/tensorflow/python/util/nest.py?line=1422'>1423</a>\u001b[0m \u001b[39m    `shallow_tree`.\u001b[39;00m\n\u001b[1;32m   <a href='file:///Users/matthewding/Desktop/Soph%20Year/Spring%20Quarter/CS221/GANnonball/venv/lib/python3.8/site-packages/tensorflow/python/util/nest.py?line=1423'>1424</a>\u001b[0m \u001b[39m  \"\"\"\u001b[39;00m\n\u001b[1;32m   <a href='file:///Users/matthewding/Desktop/Soph%20Year/Spring%20Quarter/CS221/GANnonball/venv/lib/python3.8/site-packages/tensorflow/python/util/nest.py?line=1424'>1425</a>\u001b[0m   \u001b[39mreturn\u001b[39;00m map_structure_with_tuple_paths_up_to(\n\u001b[1;32m   <a href='file:///Users/matthewding/Desktop/Soph%20Year/Spring%20Quarter/CS221/GANnonball/venv/lib/python3.8/site-packages/tensorflow/python/util/nest.py?line=1425'>1426</a>\u001b[0m       shallow_tree,\n\u001b[0;32m-> <a href='file:///Users/matthewding/Desktop/Soph%20Year/Spring%20Quarter/CS221/GANnonball/venv/lib/python3.8/site-packages/tensorflow/python/util/nest.py?line=1426'>1427</a>\u001b[0m       \u001b[39mlambda\u001b[39;00m _, \u001b[39m*\u001b[39mvalues: func(\u001b[39m*\u001b[39;49mvalues),  \u001b[39m# Discards the path arg.\u001b[39;00m\n\u001b[1;32m   <a href='file:///Users/matthewding/Desktop/Soph%20Year/Spring%20Quarter/CS221/GANnonball/venv/lib/python3.8/site-packages/tensorflow/python/util/nest.py?line=1427'>1428</a>\u001b[0m       \u001b[39m*\u001b[39minputs,\n\u001b[1;32m   <a href='file:///Users/matthewding/Desktop/Soph%20Year/Spring%20Quarter/CS221/GANnonball/venv/lib/python3.8/site-packages/tensorflow/python/util/nest.py?line=1428'>1429</a>\u001b[0m       \u001b[39m*\u001b[39m\u001b[39m*\u001b[39mkwargs)\n",
      "File \u001b[0;32m~/Desktop/Soph Year/Spring Quarter/CS221/GANnonball/venv/lib/python3.8/site-packages/keras/engine/training.py:3184\u001b[0m, in \u001b[0;36mconcat\u001b[0;34m(tensors, axis)\u001b[0m\n\u001b[1;32m   <a href='file:///Users/matthewding/Desktop/Soph%20Year/Spring%20Quarter/CS221/GANnonball/venv/lib/python3.8/site-packages/keras/engine/training.py?line=3181'>3182</a>\u001b[0m \u001b[39mif\u001b[39;00m \u001b[39misinstance\u001b[39m(tensors[\u001b[39m0\u001b[39m], tf\u001b[39m.\u001b[39mSparseTensor):\n\u001b[1;32m   <a href='file:///Users/matthewding/Desktop/Soph%20Year/Spring%20Quarter/CS221/GANnonball/venv/lib/python3.8/site-packages/keras/engine/training.py?line=3182'>3183</a>\u001b[0m   \u001b[39mreturn\u001b[39;00m tf\u001b[39m.\u001b[39msparse\u001b[39m.\u001b[39mconcat(axis\u001b[39m=\u001b[39maxis, sp_inputs\u001b[39m=\u001b[39mtensors)\n\u001b[0;32m-> <a href='file:///Users/matthewding/Desktop/Soph%20Year/Spring%20Quarter/CS221/GANnonball/venv/lib/python3.8/site-packages/keras/engine/training.py?line=3183'>3184</a>\u001b[0m \u001b[39mreturn\u001b[39;00m tf\u001b[39m.\u001b[39;49mconcat(tensors, axis\u001b[39m=\u001b[39;49maxis)\n",
      "File \u001b[0;32m~/Desktop/Soph Year/Spring Quarter/CS221/GANnonball/venv/lib/python3.8/site-packages/tensorflow/python/util/traceback_utils.py:150\u001b[0m, in \u001b[0;36mfilter_traceback.<locals>.error_handler\u001b[0;34m(*args, **kwargs)\u001b[0m\n\u001b[1;32m    <a href='file:///Users/matthewding/Desktop/Soph%20Year/Spring%20Quarter/CS221/GANnonball/venv/lib/python3.8/site-packages/tensorflow/python/util/traceback_utils.py?line=147'>148</a>\u001b[0m filtered_tb \u001b[39m=\u001b[39m \u001b[39mNone\u001b[39;00m\n\u001b[1;32m    <a href='file:///Users/matthewding/Desktop/Soph%20Year/Spring%20Quarter/CS221/GANnonball/venv/lib/python3.8/site-packages/tensorflow/python/util/traceback_utils.py?line=148'>149</a>\u001b[0m \u001b[39mtry\u001b[39;00m:\n\u001b[0;32m--> <a href='file:///Users/matthewding/Desktop/Soph%20Year/Spring%20Quarter/CS221/GANnonball/venv/lib/python3.8/site-packages/tensorflow/python/util/traceback_utils.py?line=149'>150</a>\u001b[0m   \u001b[39mreturn\u001b[39;00m fn(\u001b[39m*\u001b[39;49margs, \u001b[39m*\u001b[39;49m\u001b[39m*\u001b[39;49mkwargs)\n\u001b[1;32m    <a href='file:///Users/matthewding/Desktop/Soph%20Year/Spring%20Quarter/CS221/GANnonball/venv/lib/python3.8/site-packages/tensorflow/python/util/traceback_utils.py?line=150'>151</a>\u001b[0m \u001b[39mexcept\u001b[39;00m \u001b[39mException\u001b[39;00m \u001b[39mas\u001b[39;00m e:\n\u001b[1;32m    <a href='file:///Users/matthewding/Desktop/Soph%20Year/Spring%20Quarter/CS221/GANnonball/venv/lib/python3.8/site-packages/tensorflow/python/util/traceback_utils.py?line=151'>152</a>\u001b[0m   filtered_tb \u001b[39m=\u001b[39m _process_traceback_frames(e\u001b[39m.\u001b[39m__traceback__)\n",
      "File \u001b[0;32m~/Desktop/Soph Year/Spring Quarter/CS221/GANnonball/venv/lib/python3.8/site-packages/tensorflow/python/util/dispatch.py:1082\u001b[0m, in \u001b[0;36madd_dispatch_support.<locals>.decorator.<locals>.op_dispatch_handler\u001b[0;34m(*args, **kwargs)\u001b[0m\n\u001b[1;32m   <a href='file:///Users/matthewding/Desktop/Soph%20Year/Spring%20Quarter/CS221/GANnonball/venv/lib/python3.8/site-packages/tensorflow/python/util/dispatch.py?line=1079'>1080</a>\u001b[0m \u001b[39m# Fallback dispatch system (dispatch v1):\u001b[39;00m\n\u001b[1;32m   <a href='file:///Users/matthewding/Desktop/Soph%20Year/Spring%20Quarter/CS221/GANnonball/venv/lib/python3.8/site-packages/tensorflow/python/util/dispatch.py?line=1080'>1081</a>\u001b[0m \u001b[39mtry\u001b[39;00m:\n\u001b[0;32m-> <a href='file:///Users/matthewding/Desktop/Soph%20Year/Spring%20Quarter/CS221/GANnonball/venv/lib/python3.8/site-packages/tensorflow/python/util/dispatch.py?line=1081'>1082</a>\u001b[0m   \u001b[39mreturn\u001b[39;00m dispatch_target(\u001b[39m*\u001b[39;49margs, \u001b[39m*\u001b[39;49m\u001b[39m*\u001b[39;49mkwargs)\n\u001b[1;32m   <a href='file:///Users/matthewding/Desktop/Soph%20Year/Spring%20Quarter/CS221/GANnonball/venv/lib/python3.8/site-packages/tensorflow/python/util/dispatch.py?line=1082'>1083</a>\u001b[0m \u001b[39mexcept\u001b[39;00m (\u001b[39mTypeError\u001b[39;00m, \u001b[39mValueError\u001b[39;00m):\n\u001b[1;32m   <a href='file:///Users/matthewding/Desktop/Soph%20Year/Spring%20Quarter/CS221/GANnonball/venv/lib/python3.8/site-packages/tensorflow/python/util/dispatch.py?line=1083'>1084</a>\u001b[0m   \u001b[39m# Note: convert_to_eager_tensor currently raises a ValueError, not a\u001b[39;00m\n\u001b[1;32m   <a href='file:///Users/matthewding/Desktop/Soph%20Year/Spring%20Quarter/CS221/GANnonball/venv/lib/python3.8/site-packages/tensorflow/python/util/dispatch.py?line=1084'>1085</a>\u001b[0m   \u001b[39m# TypeError, when given unexpected types.  So we need to catch both.\u001b[39;00m\n\u001b[1;32m   <a href='file:///Users/matthewding/Desktop/Soph%20Year/Spring%20Quarter/CS221/GANnonball/venv/lib/python3.8/site-packages/tensorflow/python/util/dispatch.py?line=1085'>1086</a>\u001b[0m   result \u001b[39m=\u001b[39m dispatch(op_dispatch_handler, args, kwargs)\n",
      "File \u001b[0;32m~/Desktop/Soph Year/Spring Quarter/CS221/GANnonball/venv/lib/python3.8/site-packages/tensorflow/python/ops/array_ops.py:1779\u001b[0m, in \u001b[0;36mconcat\u001b[0;34m(values, axis, name)\u001b[0m\n\u001b[1;32m   <a href='file:///Users/matthewding/Desktop/Soph%20Year/Spring%20Quarter/CS221/GANnonball/venv/lib/python3.8/site-packages/tensorflow/python/ops/array_ops.py?line=1774'>1775</a>\u001b[0m     ops\u001b[39m.\u001b[39mconvert_to_tensor(\n\u001b[1;32m   <a href='file:///Users/matthewding/Desktop/Soph%20Year/Spring%20Quarter/CS221/GANnonball/venv/lib/python3.8/site-packages/tensorflow/python/ops/array_ops.py?line=1775'>1776</a>\u001b[0m         axis, name\u001b[39m=\u001b[39m\u001b[39m\"\u001b[39m\u001b[39mconcat_dim\u001b[39m\u001b[39m\"\u001b[39m,\n\u001b[1;32m   <a href='file:///Users/matthewding/Desktop/Soph%20Year/Spring%20Quarter/CS221/GANnonball/venv/lib/python3.8/site-packages/tensorflow/python/ops/array_ops.py?line=1776'>1777</a>\u001b[0m         dtype\u001b[39m=\u001b[39mdtypes\u001b[39m.\u001b[39mint32)\u001b[39m.\u001b[39mget_shape()\u001b[39m.\u001b[39massert_has_rank(\u001b[39m0\u001b[39m)\n\u001b[1;32m   <a href='file:///Users/matthewding/Desktop/Soph%20Year/Spring%20Quarter/CS221/GANnonball/venv/lib/python3.8/site-packages/tensorflow/python/ops/array_ops.py?line=1777'>1778</a>\u001b[0m     \u001b[39mreturn\u001b[39;00m identity(values[\u001b[39m0\u001b[39m], name\u001b[39m=\u001b[39mname)\n\u001b[0;32m-> <a href='file:///Users/matthewding/Desktop/Soph%20Year/Spring%20Quarter/CS221/GANnonball/venv/lib/python3.8/site-packages/tensorflow/python/ops/array_ops.py?line=1778'>1779</a>\u001b[0m \u001b[39mreturn\u001b[39;00m gen_array_ops\u001b[39m.\u001b[39;49mconcat_v2(values\u001b[39m=\u001b[39;49mvalues, axis\u001b[39m=\u001b[39;49maxis, name\u001b[39m=\u001b[39;49mname)\n",
      "File \u001b[0;32m~/Desktop/Soph Year/Spring Quarter/CS221/GANnonball/venv/lib/python3.8/site-packages/tensorflow/python/ops/gen_array_ops.py:1253\u001b[0m, in \u001b[0;36mconcat_v2\u001b[0;34m(values, axis, name)\u001b[0m\n\u001b[1;32m   <a href='file:///Users/matthewding/Desktop/Soph%20Year/Spring%20Quarter/CS221/GANnonball/venv/lib/python3.8/site-packages/tensorflow/python/ops/gen_array_ops.py?line=1250'>1251</a>\u001b[0m \u001b[39mif\u001b[39;00m tld\u001b[39m.\u001b[39mis_eager:\n\u001b[1;32m   <a href='file:///Users/matthewding/Desktop/Soph%20Year/Spring%20Quarter/CS221/GANnonball/venv/lib/python3.8/site-packages/tensorflow/python/ops/gen_array_ops.py?line=1251'>1252</a>\u001b[0m   \u001b[39mtry\u001b[39;00m:\n\u001b[0;32m-> <a href='file:///Users/matthewding/Desktop/Soph%20Year/Spring%20Quarter/CS221/GANnonball/venv/lib/python3.8/site-packages/tensorflow/python/ops/gen_array_ops.py?line=1252'>1253</a>\u001b[0m     _result \u001b[39m=\u001b[39m pywrap_tfe\u001b[39m.\u001b[39;49mTFE_Py_FastPathExecute(\n\u001b[1;32m   <a href='file:///Users/matthewding/Desktop/Soph%20Year/Spring%20Quarter/CS221/GANnonball/venv/lib/python3.8/site-packages/tensorflow/python/ops/gen_array_ops.py?line=1253'>1254</a>\u001b[0m       _ctx, \u001b[39m\"\u001b[39;49m\u001b[39mConcatV2\u001b[39;49m\u001b[39m\"\u001b[39;49m, name, values, axis)\n\u001b[1;32m   <a href='file:///Users/matthewding/Desktop/Soph%20Year/Spring%20Quarter/CS221/GANnonball/venv/lib/python3.8/site-packages/tensorflow/python/ops/gen_array_ops.py?line=1254'>1255</a>\u001b[0m     \u001b[39mreturn\u001b[39;00m _result\n\u001b[1;32m   <a href='file:///Users/matthewding/Desktop/Soph%20Year/Spring%20Quarter/CS221/GANnonball/venv/lib/python3.8/site-packages/tensorflow/python/ops/gen_array_ops.py?line=1255'>1256</a>\u001b[0m   \u001b[39mexcept\u001b[39;00m _core\u001b[39m.\u001b[39m_NotOkStatusException \u001b[39mas\u001b[39;00m e:\n",
      "\u001b[0;31mKeyboardInterrupt\u001b[0m: "
     ]
    }
   ],
   "source": [
    "train_gan(generator_model, discriminator_model, gan_model, latent_dim)"
   ]
  }
 ],
 "metadata": {
  "interpreter": {
   "hash": "d781374817601ac91c4e7373de991c77a47f28bec8019fbe4b77a8207d50008b"
  },
  "kernelspec": {
   "display_name": "Python 3.8.1 ('venv': venv)",
   "language": "python",
   "name": "python3"
  },
  "language_info": {
   "codemirror_mode": {
    "name": "ipython",
    "version": 3
   },
   "file_extension": ".py",
   "mimetype": "text/x-python",
   "name": "python",
   "nbconvert_exporter": "python",
   "pygments_lexer": "ipython3",
   "version": "3.8.1"
  },
  "orig_nbformat": 4
 },
 "nbformat": 4,
 "nbformat_minor": 2
}
